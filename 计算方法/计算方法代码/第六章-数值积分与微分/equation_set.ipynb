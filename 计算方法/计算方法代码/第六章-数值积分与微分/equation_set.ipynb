{
 "cells": [
  {
   "cell_type": "code",
   "execution_count": 1,
   "metadata": {},
   "outputs": [
    {
     "name": "stdout",
     "output_type": "stream",
     "text": [
      "{x1: 1 - 2*x2, x0: x2 - 2}\n"
     ]
    }
   ],
   "source": [
    "from sympy import *\n",
    "\n",
    "N = 3\n",
    "xs = symbols('x:%d' % N)\n",
    "fs = [i for i in range(N)]\n",
    "for i in range(N):\n",
    "    temp = 0\n",
    "    for j in range(N):\n",
    "        temp += (j + i + 1) * xs[j]\n",
    "    fs[i] += temp\n",
    "print(solve(fs, xs[:-1]))\n"
   ]
  },
  {
   "cell_type": "code",
   "execution_count": 8,
   "metadata": {},
   "outputs": [
    {
     "data": {
      "text/plain": [
       "array([2., 3.])"
      ]
     },
     "execution_count": 8,
     "metadata": {},
     "output_type": "execute_result"
    }
   ],
   "source": [
    "import numpy as np\n",
    "a = np.array([[3,1], [1,2]])\n",
    "b = np.array([9,8])\n",
    "x = np.linalg.solve(a, b)\n",
    "x"
   ]
  },
  {
   "cell_type": "code",
   "execution_count": 1,
   "metadata": {},
   "outputs": [
    {
     "data": {
      "text/plain": [
       "{a0: h/2, a1: h/2, b0: h**2/12, b1: -h**2/12}"
      ]
     },
     "execution_count": 1,
     "metadata": {},
     "output_type": "execute_result"
    }
   ],
   "source": [
    "from sympy import *\n",
    "var('a0 a1 b0 b1 h')\n",
    "eqns = [a0+a1-h, b0+a1*h+b1-h**2/2, a1*h**2+2*h*b1-h**3/3, a1*h**3+3*b1*h**2-h**4/4]\n",
    "solve(eqns, [a0,a1,b0,b1])"
   ]
  },
  {
   "cell_type": "code",
   "execution_count": null,
   "metadata": {},
   "outputs": [],
   "source": []
  }
 ],
 "metadata": {
  "kernelspec": {
   "display_name": "Python 3",
   "language": "python",
   "name": "python3"
  },
  "language_info": {
   "codemirror_mode": {
    "name": "ipython",
    "version": 3
   },
   "file_extension": ".py",
   "mimetype": "text/x-python",
   "name": "python",
   "nbconvert_exporter": "python",
   "pygments_lexer": "ipython3",
   "version": "3.7.2"
  }
 },
 "nbformat": 4,
 "nbformat_minor": 4
}
